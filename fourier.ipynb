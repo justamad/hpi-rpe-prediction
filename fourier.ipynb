{
 "cells": [
  {
   "cell_type": "code",
   "execution_count": 1,
   "metadata": {
    "pycharm": {
     "name": "#%%\n"
    }
   },
   "outputs": [],
   "source": [
    "from src.processing import apply_butterworth_filter, segment_signal_peak_detection\n",
    "from scipy.fft import fft, fftfreq, rfft, rfftfreq\n",
    "\n",
    "import pandas as pd\n",
    "import numpy as np\n",
    "import matplotlib\n",
    "matplotlib.use(\"WebAgg\")\n",
    "import matplotlib.pyplot as plt"
   ]
  },
  {
   "cell_type": "code",
   "execution_count": 2,
   "metadata": {
    "pycharm": {
     "name": "#%%\n"
    }
   },
   "outputs": [],
   "source": [
    "def calculate_fourier(signal, samplingFrequency):\n",
    "    fourierTransform = np.fft.fft(signal)/len(signal)           # Normalize amplitude\n",
    "    fourierTransform = fourierTransform[range(int(len(signal)/2))] # Exclude sampling frequency\n",
    "    tpCount = len(signal)\n",
    "    values = np.arange(int(tpCount/2))\n",
    "    timePeriod = tpCount/samplingFrequency\n",
    "    frequencies = values/timePeriod\n",
    "    return frequencies, abs(fourierTransform)\n",
    " "
   ]
  },
  {
   "cell_type": "code",
   "execution_count": null,
   "metadata": {
    "pycharm": {
     "name": "#%%\n"
    }
   },
   "outputs": [],
   "source": [
    "df = pd.read_csv(\"CHEST.csv\", index_col=\"sensorTimestamp\")"
   ]
  },
  {
   "cell_type": "code",
   "execution_count": 11,
   "metadata": {
    "pycharm": {
     "name": "#%%\n"
    }
   },
   "outputs": [],
   "source": [
    "df = pd.read_csv(\"data/processed/857F1E/09_imu.csv\", index_col=\"sensorTimestamp\", sep=\";\")\n",
    "data = df[[\"CHEST_ACCELERATION_X\", \"CHEST_ACCELERATION_Y\", \"CHEST_ACCELERATION_Z\"]]\n",
    "\n",
    "data = apply_butterworth_filter(data, sampling_rate=128, order=4, cutoff=8)"
   ]
  },
  {
   "cell_type": "code",
   "execution_count": 12,
   "metadata": {
    "pycharm": {
     "name": "#%%\n"
    }
   },
   "outputs": [],
   "source": [
    "signal = data[\"CHEST_ACCELERATION_Z\"].to_numpy()\n",
    "samp_rate = 128\n",
    "samp_freq = 1 / samp_rate\n",
    "x = np.arange(0, len(signal)) * samp_freq\n",
    "\n",
    "xf, yf = calculate_fourier(signal, samp_rate)\n",
    "\n",
    "fig, (ax1, ax2) = plt.subplots(1, 2, figsize=(20, 10))\n",
    "ax1.plot(x, signal)\n",
    "ax2.plot(xf, yf)\n",
    "plt.show()"
   ]
  },
  {
   "cell_type": "code",
   "execution_count": 13,
   "metadata": {
    "pycharm": {
     "name": "#%%\n"
    }
   },
   "outputs": [],
   "source": [
    "N = 6\n",
    "samp_rate = 500\n",
    "sig_interval = 1.0 / samp_rate\n",
    "x = np.arange(0, N, sig_interval)\n",
    "\n",
    "s1 = 2 * np.sin(2 * np.pi * x)\n",
    "s2 = np.sin(2 * np.pi * 10 * x)\n",
    "y = s1 + s2\n",
    "\n",
    "xf, yf = calculate_fourier(y, samp_rate)\n",
    "\n",
    "fig, (ax1, ax2) = plt.subplots(1, 2, figsize=(20, 10))\n",
    "\n",
    "ax1.plot(x, s1)\n",
    "ax1.plot(x, s2)\n",
    "ax1.plot(x, y)\n",
    "\n",
    "ax2.plot(xf, yf)\n",
    "plt.show()"
   ]
  },
  {
   "cell_type": "code",
   "execution_count": 77,
   "metadata": {
    "pycharm": {
     "name": "#%%\n"
    }
   },
   "outputs": [],
   "source": [
    "import numpy as np\n",
    "import matplotlib.pyplot as plotter\n",
    "\n",
    "plt.close()\n",
    "\n",
    "samplingFrequency = 100\n",
    "samplingInterval = 1 / samplingFrequency\n",
    "beginTime = 0\n",
    "endTime = 10 \n",
    "\n",
    "time = np.arange(beginTime, endTime, samplingInterval)\n",
    "\n",
    "amplitude1 = 2 * np.sin(2 * np.pi * time)\n",
    "amplitude2 = np.sin(2 * np.pi * 10 * time)\n",
    "\n",
    "figure, axis = plotter.subplots(4, 1)\n",
    "plotter.subplots_adjust(hspace=1)\n",
    "\n",
    "axis[0].set_title('Sine wave with a frequency of 1 Hz')\n",
    "axis[0].plot(time, amplitude1)\n",
    "axis[0].set_xlabel('Time')\n",
    "axis[0].set_ylabel('Amplitude')\n",
    "\n",
    "# Time domain representation for sine wave 2\n",
    "\n",
    "axis[1].set_title('Sine wave with a frequency of 10 Hz')\n",
    "axis[1].plot(time, amplitude2)\n",
    "axis[1].set_xlabel('Time')\n",
    "axis[1].set_ylabel('Amplitude')\n",
    "\n",
    "# Add the sine waves\n",
    "amplitude = amplitude1 + amplitude2\n",
    "\n",
    "# Time domain representation of the resultant sine wave\n",
    "\n",
    "axis[2].set_title('Sine wave with multiple frequencies')\n",
    "axis[2].plot(time, amplitude)\n",
    "axis[2].set_xlabel('Time')\n",
    "axis[2].set_ylabel('Amplitude')\n",
    "\n",
    "# Frequency domain representation\n",
    "\n",
    "fourierTransform = np.fft.fft(amplitude)/len(amplitude)           # Normalize amplitude\n",
    "fourierTransform = fourierTransform[range(int(len(amplitude)/2))] # Exclude sampling frequency\n",
    "tpCount     = len(amplitude)\n",
    "values      = np.arange(int(tpCount/2))\n",
    "timePeriod  = tpCount/samplingFrequency\n",
    "frequencies = values/timePeriod\n",
    "\n",
    "# Frequency domain representation\n",
    "axis[3].set_title('Fourier transform depicting the frequency components')\n",
    "axis[3].plot(frequencies, abs(fourierTransform))\n",
    "axis[3].set_xlabel('Frequency')\n",
    "axis[3].set_ylabel('Amplitude')\n",
    "\n",
    "plotter.show()"
   ]
  },
  {
   "cell_type": "code",
   "execution_count": null,
   "metadata": {
    "pycharm": {
     "name": "#%%\n"
    }
   },
   "outputs": [],
   "source": []
  }
 ],
 "metadata": {
  "kernelspec": {
   "display_name": "Python 3 (ipykernel)",
   "language": "python",
   "name": "python3"
  },
  "language_info": {
   "codemirror_mode": {
    "name": "ipython",
    "version": 3
   },
   "file_extension": ".py",
   "mimetype": "text/x-python",
   "name": "python",
   "nbconvert_exporter": "python",
   "pygments_lexer": "ipython3",
   "version": "3.9.1"
  }
 },
 "nbformat": 4,
 "nbformat_minor": 1
}